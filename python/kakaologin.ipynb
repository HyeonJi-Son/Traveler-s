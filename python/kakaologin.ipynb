{
 "cells": [
  {
   "cell_type": "code",
   "execution_count": 1,
   "id": "fcadb536",
   "metadata": {},
   "outputs": [],
   "source": [
    "import requests\n",
    "import json\n",
    "import datetime\n",
    "import os\n",
    "\n",
    "def kakao_login(code):\n",
    "    url = \"https://kauth.kakao.com/oauth/token\"\n",
    "    \n",
    "    data = {\n",
    "        \"grant_type\": \"authorization_code\",\n",
    "        \"client_id\": \"11d8ebef889239a83c2db142c8d841a6\",\n",
    "        \"redirect_uri\": \"http://localhost:7777/kakaoLogin\",\n",
    "        \"code\": code\n",
    "    }\n",
    "\n",
    "    response = requests.post(url, data=data)\n",
    "\n",
    "    if response.status_code != 200:\n",
    "        print(\"에러!!!\")\n",
    "    else:\n",
    "        tokens = response.json()\n",
    "        print(tokens)\n",
    "    \n",
    "    return tokens\n",
    "        \n",
    "def save_tokens(filename, tokens):\n",
    "    with open(filename, \"w\") as fp:\n",
    "        json.dump(tokens, fp)\n",
    "        \n",
    "# 읽기\n",
    "def load_tokens(filename):\n",
    "    with open(filename) as fp:\n",
    "        tokens = json.load(fp)\n",
    "        \n",
    "    return tokens"
   ]
  },
  {
   "cell_type": "code",
   "execution_count": 2,
   "id": "a10af309",
   "metadata": {},
   "outputs": [],
   "source": [
    "def getProfile(tokens):\n",
    "    url = \"https://kapi.kakao.com/v2/user/me\"\n",
    "\n",
    "    headers = {\n",
    "        \"Authorization\": \"Bearer \" + tokens['access_token'],\n",
    "    }\n",
    "\n",
    "    response = requests.post(url, headers=headers)\n",
    "    print(response.status_code)\n",
    "    profile = response.json()\n",
    "\n",
    "    if response.status_code != 200:\n",
    "        print(\"에러!\")\n",
    "    else:\n",
    "        print(\"카톡 메시지가 간드아!!!\")\n",
    "    \n",
    "    return profile"
   ]
  },
  {
   "cell_type": "code",
   "execution_count": null,
   "id": "1dcf48ef",
   "metadata": {},
   "outputs": [
    {
     "name": "stdout",
     "output_type": "stream",
     "text": [
      " * Serving Flask app \"__main__\" (lazy loading)\n",
      " * Environment: production\n",
      "\u001b[31m   WARNING: This is a development server. Do not use it in a production deployment.\u001b[0m\n",
      "\u001b[2m   Use a production WSGI server instead.\u001b[0m\n",
      " * Debug mode: off\n"
     ]
    },
    {
     "name": "stderr",
     "output_type": "stream",
     "text": [
      " * Running on http://127.0.0.1:5000/ (Press CTRL+C to quit)\n"
     ]
    },
    {
     "name": "stdout",
     "output_type": "stream",
     "text": [
      "code:n3PeXeER0Db8ZEbBWGCy-UF3ZFkLHWP3NhLtifnQo46howwACJHln2qNfyEzhUti9Rn6VAopcBMAAAGBVVFIRQ\n"
     ]
    },
    {
     "name": "stderr",
     "output_type": "stream",
     "text": [
      "127.0.0.1 - - [12/Jun/2022 09:30:01] \"POST /kakao-login HTTP/1.1\" 200 -\n"
     ]
    },
    {
     "name": "stdout",
     "output_type": "stream",
     "text": [
      "{'access_token': '2PLt5K6Lz5A-4QGRA7QDDw8WlqZea23pElu6sqCXCj10aQAAAYFVUUq9', 'token_type': 'bearer', 'refresh_token': '5FqGdmIhoEJNyrypNLR4-jdamEHAElwi4Ve77pQ-Cj10aQAAAYFVUUq7', 'expires_in': 21599, 'scope': 'account_email profile_nickname', 'refresh_token_expires_in': 5183999}\n",
      "200\n",
      "카톡 메시지가 간드아!!!\n"
     ]
    },
    {
     "name": "stderr",
     "output_type": "stream",
     "text": [
      "127.0.0.1 - - [12/Jun/2022 09:31:07] \"POST /kakao-login HTTP/1.1\" 200 -\n"
     ]
    },
    {
     "name": "stdout",
     "output_type": "stream",
     "text": [
      "code:HueCIXMQKznBNvglFKzWIJO3RXYS-oMr8XZzaTS3tJFs6YAmseWcin3GCY2CrFw8Tro_aAorDKcAAAGBVVJIqQ\n",
      "{'access_token': 'f2N25EAXps9Xk0tbPzuA1eRwQeHyxCFO0JM-DXY1CilxIQAAAYFVUkoY', 'token_type': 'bearer', 'refresh_token': 'iXcMEt4xRslzlLyKpPbJUpMgZSppQPdQEXrw6-D2CilxIQAAAYFVUkoW', 'expires_in': 21599, 'scope': 'account_email profile_nickname', 'refresh_token_expires_in': 5183999}\n",
      "200\n",
      "카톡 메시지가 간드아!!!\n",
      "code:61bRGwVX-O3jXlXkbxgB154l8e8IGQsMpbBFtciIxtWUPcYgK_Nw27O7eAR4-RPBlQEGgwopcSEAAAGBVVmjuw\n",
      "{'access_token': 'GMbeBm8yO6Ft9c3hFmA2JOOSi6cL75TLmZ5dYMMrCilwEwAAAYFVWaXb', 'token_type': 'bearer', 'refresh_token': 'wNdmgmLTRwYaGMy4ml_dRYxRlC9d_qHGOFALk_j2CilwEwAAAYFVWaXZ', 'expires_in': 21599, 'scope': 'account_email profile_nickname', 'refresh_token_expires_in': 5183999}\n"
     ]
    },
    {
     "name": "stderr",
     "output_type": "stream",
     "text": [
      "127.0.0.1 - - [12/Jun/2022 09:39:09] \"POST /kakao-login HTTP/1.1\" 200 -\n"
     ]
    },
    {
     "name": "stdout",
     "output_type": "stream",
     "text": [
      "200\n",
      "카톡 메시지가 간드아!!!\n"
     ]
    },
    {
     "name": "stderr",
     "output_type": "stream",
     "text": [
      "127.0.0.1 - - [12/Jun/2022 09:39:31] \"POST /kakao-login HTTP/1.1\" 200 -\n"
     ]
    },
    {
     "name": "stdout",
     "output_type": "stream",
     "text": [
      "code:iowr4A-XZygHHESExBhBa4DiAJaIMmFgyyXgdnSqmZpqesgVHK1N60u1-G3VT3O0W-zRmwopyNoAAAGBVVn6Wg\n",
      "{'access_token': 'IA3VZxwvQncmXA08x_uuLQGMKH8dd7hZmUp2rJGcCj11XAAAAYFVWfu6', 'token_type': 'bearer', 'refresh_token': '7gmhbxysoL9Ty_0m64VFQj5SH0YL3H39Lw74jnZACj11XAAAAYFVWfu5', 'expires_in': 21599, 'scope': 'account_email profile_nickname', 'refresh_token_expires_in': 5183999}\n",
      "200\n",
      "카톡 메시지가 간드아!!!\n"
     ]
    },
    {
     "name": "stderr",
     "output_type": "stream",
     "text": [
      "127.0.0.1 - - [12/Jun/2022 09:40:20] \"POST /kakao-login HTTP/1.1\" 200 -\n"
     ]
    },
    {
     "name": "stdout",
     "output_type": "stream",
     "text": [
      "code:pUtB1rrYEd0aXv1KxCRT2h1U_WixCtcUah6mNdnaLMXIpNVGRIOyqksTtWUNu90zDICGUwopcBMAAAGBVVq5SA\n",
      "{'access_token': 'R8MarzHqPt5taFSmgH8CC_XmPhgL5FrF6CwAYRXPCilv1QAAAYFVWrm5', 'token_type': 'bearer', 'refresh_token': 'va8Kf5d4aBDJbhbX9az3stGnMl62RXakvEuifUakCilv1QAAAYFVWrm3', 'expires_in': 21599, 'scope': 'account_email profile_nickname', 'refresh_token_expires_in': 5183999}\n",
      "200\n",
      "카톡 메시지가 간드아!!!\n"
     ]
    },
    {
     "name": "stderr",
     "output_type": "stream",
     "text": [
      "127.0.0.1 - - [12/Jun/2022 09:40:23] \"POST /kakao-login HTTP/1.1\" 200 -\n"
     ]
    },
    {
     "name": "stdout",
     "output_type": "stream",
     "text": [
      "code:N4PNSCiiX-ONyzjn5Kw0FJEfTUPjt9UBfugEJBlzm_kgmQ-5knUl4Pj7rjf_IwnMN8Q8kQopcBMAAAGBVVrFtg\n",
      "{'access_token': 'qa0HWBxB6lOORCONVru3ZiavK7Poq0UI4soZZYhaCinI2AAAAYFVWsYF', 'token_type': 'bearer', 'refresh_token': 'iybU7diKPQ6d2b3_I_uumf8dDreKtS5wPVX4v0aCCinI2AAAAYFVWsYD', 'expires_in': 21599, 'scope': 'account_email profile_nickname', 'refresh_token_expires_in': 5183999}\n",
      "200\n",
      "카톡 메시지가 간드아!!!\n"
     ]
    },
    {
     "name": "stderr",
     "output_type": "stream",
     "text": [
      "127.0.0.1 - - [12/Jun/2022 09:40:46] \"POST /kakao-login HTTP/1.1\" 200 -\n"
     ]
    },
    {
     "name": "stdout",
     "output_type": "stream",
     "text": [
      "code:hdf3mtHFmaVF5yLjtfrgYkIN7rCnt22sGkhjLmDCeXz5PDPGjaqnI1ZmmJMSJjfdytAW0gopyNoAAAGBVVsgfw\n",
      "{'access_token': 'sV7VkpNolzTGvnLEQeuqubob3FTJn1krRa2lA9yICj1z7AAAAYFVWyDZ', 'token_type': 'bearer', 'refresh_token': 'xSedyT2mOyD38VIGaYNdh7RNO3EPDo9Rk9hURwnECj1z7AAAAYFVWyDX', 'expires_in': 21599, 'scope': 'account_email profile_nickname', 'refresh_token_expires_in': 5183999}\n",
      "200\n",
      "카톡 메시지가 간드아!!!\n"
     ]
    },
    {
     "name": "stderr",
     "output_type": "stream",
     "text": [
      "127.0.0.1 - - [12/Jun/2022 09:41:26] \"POST /kakao-login HTTP/1.1\" 200 -\n"
     ]
    },
    {
     "name": "stdout",
     "output_type": "stream",
     "text": [
      "code:OgxpO2l_yCz2lsvfaCzSpFfIBohHXbzszls1j5vs4pcRNymYW33WvI3KnddYlmrJI_EZ1worDKcAAAGBVVu83A\n",
      "{'access_token': 'wEch4UOfNRdBSJzs8zuMT5CnF9GAwopdL_gxDUAwCisNIAAAAYFVW70r', 'token_type': 'bearer', 'refresh_token': 'deU7U96OFc_r-0E6avGfeEst9PAkVRZ3l_dq4owmCisNIAAAAYFVW70q', 'expires_in': 21599, 'scope': 'account_email profile_nickname', 'refresh_token_expires_in': 5183999}\n",
      "200\n",
      "카톡 메시지가 간드아!!!\n"
     ]
    }
   ],
   "source": [
    "from flask import Flask, url_for, request, jsonify\n",
    "from flask_cors import CORS, cross_origin\n",
    "\n",
    "import json\n",
    "\n",
    "app = Flask(__name__)\n",
    "CORS(app)\n",
    "\n",
    "@app.route('/kakao-login', methods = ['POST'])\n",
    "def login():\n",
    "    #Spring에서 code 값 받아오기\n",
    "    params = json.loads(request.get_data())\n",
    "    code = params['code']\n",
    "    print('code:' + code)\n",
    "    KAKAO_LOGIN_TOKEN_SAVED_FILE = \"kakao_login/kakao_login_token.json\"\n",
    "    #토큰 획득\n",
    "    authorize_tokens = kakao_login(code)\n",
    "    save_tokens(KAKAO_LOGIN_TOKEN_SAVED_FILE, authorize_tokens)\n",
    "    tokens = load_tokens(KAKAO_LOGIN_TOKEN_SAVED_FILE)\n",
    "    \n",
    "    \n",
    "    #프로필 요청\n",
    "    return getProfile(tokens)\n",
    "\n",
    "\n",
    "if __name__ == \"__main__\":\n",
    "    app.run()"
   ]
  }
 ],
 "metadata": {
  "kernelspec": {
   "display_name": "Python 3 (ipykernel)",
   "language": "python",
   "name": "python3"
  },
  "language_info": {
   "codemirror_mode": {
    "name": "ipython",
    "version": 3
   },
   "file_extension": ".py",
   "mimetype": "text/x-python",
   "name": "python",
   "nbconvert_exporter": "python",
   "pygments_lexer": "ipython3",
   "version": "3.9.12"
  }
 },
 "nbformat": 4,
 "nbformat_minor": 5
}
